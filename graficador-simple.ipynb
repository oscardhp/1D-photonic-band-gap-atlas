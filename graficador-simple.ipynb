{
 "cells": [
  {
   "cell_type": "code",
   "execution_count": 1,
   "id": "0afbc483",
   "metadata": {},
   "outputs": [
    {
     "data": {
      "application/javascript": [
       "IPython.OutputArea.prototype._should_scroll = function(lines) {\n",
       "    return false;\n",
       "}\n"
      ],
      "text/plain": [
       "<IPython.core.display.Javascript object>"
      ]
     },
     "metadata": {},
     "output_type": "display_data"
    }
   ],
   "source": [
    "%%javascript\n",
    "IPython.OutputArea.prototype._should_scroll = function(lines) {\n",
    "    return false;\n",
    "}\n"
   ]
  },
  {
   "cell_type": "code",
   "execution_count": 2,
   "id": "2274aaf9",
   "metadata": {},
   "outputs": [],
   "source": [
    "%matplotlib inline\n",
    "import ipywidgets\n",
    "from funciones import *\n",
    "from ipywidgets import fixed\n",
    "from functools import partial\n",
    "from IPython.display import display\n",
    "\n",
    "# backends: notebook, inline, ipympl...\n"
   ]
  },
  {
   "cell_type": "code",
   "execution_count": 3,
   "id": "f4a59856",
   "metadata": {},
   "outputs": [],
   "source": [
    "\n",
    "puntos_rutina_num = [64,128,256,512]\n",
    "\n",
    "\n",
    "puntos_num_bandas = np.arange(6,16,1)\n",
    "#resultados_num_bandas = rutina(num_bandas=6,\n",
    "#       archivo_control='control-num1.ctl',\n",
    "#       control=[6,64,3], # num_bandas, resolucion, mesh;  e,a; e max \n",
    "#       puntos=puntos_num_bandas,\n",
    "#       tipo=['num',0], # num, mat o lineal. indice para introduccion   \n",
    "#       cifras=2, # solo se usa para el balance de proporciones\n",
    "#       nombre='rutina-num-bandas',\n",
    "#       funcion=default\n",
    "#      )\n",
    "\n",
    "puntos_resolucion = [2**(i+4) for i in range(10)]\n",
    "#resultados_resolucion = rutina(num_bandas=6,\n",
    "#       archivo_control='control-num1.ctl',\n",
    "#       control=[6,64,3], # num_bandas, resolucion, mesh;  e,a; e max \n",
    "#       puntos=puntos_resolucion,\n",
    "#       tipo=['num',1], # num, mat o lineal. indice para introduccion   \n",
    "#       cifras=2, # solo se usa para el balance de proporciones\n",
    "#       nombre='rutina-resolucion',\n",
    "#       funcion=default\n",
    "#      )\n",
    "\n",
    "puntos_mesh = np.arange(5, 500, 50)\n",
    "#resultados_mesh = rutina(num_bandas=6,\n",
    "#       archivo_control='control-num1.ctl',\n",
    "#       control=[6,64,3], # num_bandas, resolucion, mesh;  e,a; e max \n",
    "#       puntos=puntos_mesh,\n",
    "#       tipo=['num',2], # num, mat o lineal. indice para introduccion   \n",
    "#       cifras=2, # solo se usa para el balance de proporciones\n",
    "#       nombre='rutina-mesh',\n",
    "#       funcion=default\n",
    "#      )\n",
    "\n",
    "#anhadir interpolacion?\n",
    "\n",
    "puntos_epsilon_a = np.round(np.arange(1.5,6.5,0.5),2)\n"
   ]
  },
  {
   "cell_type": "code",
   "execution_count": 4,
   "id": "c7ad739f",
   "metadata": {},
   "outputs": [
    {
     "name": "stdout",
     "output_type": "stream",
     "text": [
      "1.0000000000509601e-05\n"
     ]
    }
   ],
   "source": [
    "nombre = 'epsilon-a'\n",
    "with open('resultados-' + nombre + '.pkl', 'rb') as f:\n",
    "    resultados = pickle.load(f)\n",
    "\n",
    "nombre = 'epsilon-a-mesh'\n",
    "with open('resultados-' + nombre + '.pkl', 'rb') as f:\n",
    "    resultados_mesh = pickle.load(f)\n",
    "    \n",
    "print(np.max(resultados['tefreqs'][0] - resultados_mesh['tefreqs'][0]))\n"
   ]
  },
  {
   "cell_type": "code",
   "execution_count": 5,
   "id": "0b5c265d",
   "metadata": {},
   "outputs": [],
   "source": [
    "texto = { 'bandas' : { 'titulo' : lambda track,pola,identidad: \n",
    "                                         str(track+1) + \" bandas \" + pola.upper() + \" con \" + identidad,\n",
    "                         'ejex' : lambda _: 'Vector de onda (ka/2pi)',\n",
    "                         'ejey' : lambda _: 'Frecuencia (wa/2pic)'\n",
    "                     },\n",
    "            'vels' : { 'titulo' : lambda track,pola,identidad: \n",
    "                                         \"Velocidades de grupo para \" + str(track+1) + \" bandas \"\n",
    "                                          + pola.upper() + \" con \" + identidad,\n",
    "                         'ejex' : lambda _: 'Vector de onda (ka/2pi)',\n",
    "                         'ejey' : lambda _: 'Frecuencia (wa/2pic)'\n",
    "                     },\n",
    "          'rutina' : { 'titulo' : lambda num_gap: 'del gap ' + str(num_gap) \n",
    "                                         + ' en función de los puntos de la rutina', \n",
    "                         'ejex' : lambda _: 'Puntos de la rutina (u.i)',\n",
    "                         'ejey' : lambda num_gap: 'Gap ' + str(num_gap) + ' (c/a)'\n",
    "                     },\n",
    "         'widgets' : { 'puntos' : lambda _: 'Punto de rutina',\n",
    "                      'num_gap' : lambda _: 'Gap',\n",
    "                        'serie' : lambda _: 'Serie:'\n",
    "                     }\n",
    "        }\n"
   ]
  },
  {
   "cell_type": "code",
   "execution_count": 6,
   "id": "63d984f2",
   "metadata": {},
   "outputs": [],
   "source": [
    "def traductor(param_red, resultados):\n",
    "    c = 3.0e8\n",
    "    factor = c/param_red\n",
    "\n",
    "    for i in range(len(resultados['tefreqs'])):\n",
    "        resultados['tefreqs'][i] = factor*resultados['tefreqs'][i]\n",
    "    \n",
    "    resultados['gaps']['Ancho TE'] = factor*resultados['gaps']['Ancho TE']\n",
    "    resultados['gaps']['Prom TE'] = factor*resultados['gaps']['Prom TE']\n",
    "\n",
    "    return resultados\n",
    "\n",
    "\n",
    "def graficador(resultados,\n",
    "               puntos=0,\n",
    "               num_bandas=6,\n",
    "               pola='te',\n",
    "               texto=0,\n",
    "               param_red=0.0,\n",
    "               rango=0.0,\n",
    "               mostrar_velocidades=False\n",
    "              ):\n",
    "    \n",
    "    if isinstance(texto, int):\n",
    "        texto = { 'bandas' : { 'titulo' : lambda track,pola,identidad: \n",
    "                                             str(track+1) + \" bandas \" + pola.upper() + \" con \" + identidad,\n",
    "                                 'ejex' : lambda _: 'Vector de onda (ka/2pi)',\n",
    "                                 'ejey' : lambda _: 'Frecuencia (wa/2pic)'\n",
    "                             },\n",
    "                    'vels' : { 'titulo' : lambda track,pola,identidad: \n",
    "                                             \"Velocidades de grupo para \" + str(track+1) + \" bandas \"\n",
    "                                             + pola.upper() + \" con \" + identidad,\n",
    "                                 'ejex' : lambda _: 'Vector de onda (ka/2pi)',\n",
    "                                 'ejey' : lambda _: 'Frecuencia (wa/2pic)'\n",
    "                             },\n",
    "                  'rutina' : { 'titulo' : lambda num_gap: 'del gap ' + str(num_gap) \n",
    "                                             + ' en función de los puntos de la rutina', \n",
    "                                 'ejex' : lambda _: 'Puntos de la rutina (u.i)',\n",
    "                                 'ejey' : lambda num_gap: 'Gap ' + str(num_gap) + ' (c/a)'\n",
    "                             },\n",
    "                 'widgets' : { 'puntos' : lambda _: 'Punto de rutina',\n",
    "                              'num_gap' : lambda _: 'Gap',\n",
    "                                'serie' : lambda _: 'Serie:'\n",
    "                     }\n",
    "                }\n",
    "    \n",
    "    if (pola=='te'):\n",
    "        llaves = ['tefreqs', 'tevels',  'Ancho TE', 'Promedio TE', 'Porcentaje TE']\n",
    "    elif (pola=='tm'):\n",
    "        llaves = ['tmfreqs', 'tmvels',  'Ancho TM', 'Promedio TM', 'Porcentaje TM']\n",
    "    \n",
    "    try:\n",
    "        with open('resultados-' + resultados + '.pkl', 'rb') as f:\n",
    "            resultados = pickle.load(f)\n",
    "    except:\n",
    "        try:\n",
    "            with open(resultados + '/resultados-' + resultados + '.pkl', 'rb') as f:\n",
    "                resultados = pickle.load(f)\n",
    "        except:\n",
    "            pass\n",
    "    \n",
    "    if isinstance(puntos, int): puntos = resultados['puntos']\n",
    "    \n",
    "    if (param_red != 0.0):\n",
    "        resultados = traductor(param_red, resultados)\n",
    "    \n",
    "    def func_indice(valor): \n",
    "        try:\n",
    "            indice = int(np.where(puntos == valor)[0][0])\n",
    "        except:\n",
    "            indice = puntos.index(valor)\n",
    "        return indice\n",
    "    \n",
    "    def graf_bandas(valor, num_bandas, track=num_bandas-1):\n",
    "        indice = func_indice(valor)\n",
    "        fig, ax = plt.subplots()\n",
    "        for i in range(track+1):\n",
    "            k_vector = np.linspace(-0.5, 0.5, int(len(resultados[llaves[0]][indice][i])))\n",
    "            ax.scatter(k_vector, resultados[llaves[0]][indice][i], c='r', s=0.1)\n",
    "        \n",
    "        parametros = resultados['parametros'][indice]\n",
    "        identidad = str(parametros[0])\n",
    "        for i in range(len(parametros)-1):\n",
    "            identidad = identidad + '-' + str(parametros[i+1])\n",
    "\n",
    "        ax.set_xlabel(texto['bandas']['ejex'](0))\n",
    "        ax.set_ylabel(texto['bandas']['ejey'](0))\n",
    "        ax.set_title(texto['bandas']['titulo'](track,pola,identidad))\n",
    "        \n",
    "        if (rango != 0.0):\n",
    "            ax.set_ylim(rango)\n",
    "        \n",
    "    def graf_vels(valor, num_bandas, track=num_bandas-1):\n",
    "        indice = func_indice(valor)\n",
    "        fig, ax = plt.subplots()\n",
    "        for i in range(track+1):\n",
    "            k_vector = np.linspace(-0.5, 0.5, int(len(resultados[llaves[1]][indice][i])))\n",
    "            ax.scatter(k_vector, resultados[llaves[1]][indice][i], c='r', s=0.1)\n",
    "        \n",
    "        parametros = resultados['parametros'][indice]\n",
    "        identidad = str(parametros[0])\n",
    "        for i in range(len(parametros)-1):\n",
    "            identidad = identidad + '-' + str(parametros[i+1])\n",
    "\n",
    "        ax.set_xlabel(texto['vels']['ejex'](0))\n",
    "        ax.set_ylabel(texto['vels']['ejey'](0))\n",
    "        ax.set_title(texto['vels']['titulo'](track,pola,identidad))\n",
    "        \n",
    "        if (rango != 0.0):\n",
    "            ax.set_ylim(rango)\n",
    "        \n",
    "    def graf_rutina(num_gap=1,tipo=llaves[2]):\n",
    "        fig, ax = plt.subplots()\n",
    "        fig.subplots_adjust(0.2,0.2)\n",
    "        plt.ticklabel_format(style='plain', useOffset=False)\n",
    "        ax.scatter(puntos, resultados['gaps'][tipo][num_gap-1], c='r', s=1)\n",
    "        ax.set_xlabel(texto['rutina']['ejex'](0))\n",
    "        ax.set_ylabel(texto['rutina']['ejey'](num_gap))\n",
    "        if (tipo==llaves[2]):\n",
    "            ax.set_title(\"Ancho \" + texto['rutina']['titulo'](num_gap))\n",
    "            if (param_red != 0.0):\n",
    "                ax.ticklabel_format(style='sci',scilimits=(0,0),axis='y')\n",
    "        elif (tipo==llaves[3]):\n",
    "            ax.set_title(\"Promedio \" + texto['rutina']['titulo'](num_gap))\n",
    "            if (param_red != 0.0):\n",
    "                ax.ticklabel_format(style='sci',scilimits=(0,0),axis='y')\n",
    "        else:\n",
    "            ax.set_title(\"Porcentaje \" + texto['rutina']['titulo'](num_gap))\n",
    "        \n",
    "    \n",
    "    ipywidgets.interact(graf_bandas,\n",
    "                        valor=ipywidgets.SelectionSlider(description=texto['widgets']['puntos'](0),\n",
    "                                                         options=puntos\n",
    "                                                        ),\n",
    "                        num_bandas=fixed(num_bandas),\n",
    "                        track=fixed(num_bandas-1)\n",
    "                       )\n",
    "    \n",
    "    if (mostrar_velocidades == True):\n",
    "        ipywidgets.interact(graf_vels,\n",
    "                            valor=ipywidgets.SelectionSlider(description=texto['widgets']['puntos'](0),\n",
    "                                                             options=puntos\n",
    "                                                            ),\n",
    "                            num_bandas=fixed(num_bandas),\n",
    "                            track=fixed(num_bandas-1)\n",
    "                           )\n",
    "    \n",
    "    ipywidgets.interact(graf_rutina,\n",
    "                        num_gap=ipywidgets.SelectionSlider(description=texto['widgets']['num_gap'](0),\n",
    "                                                         options=np.arange(1,num_bandas,1)\n",
    "                                                        ),\n",
    "                        tipo=ipywidgets.Dropdown(options=[llaves[2], llaves[3], llaves[4]],\n",
    "                                             value=llaves[2],\n",
    "                                             description=texto['widgets']['serie'](0),\n",
    "                                             disabled=False,\n",
    "                                            )\n",
    "                       )\n",
    "#    return resultados"
   ]
  },
  {
   "cell_type": "code",
   "execution_count": 7,
   "id": "e1413420",
   "metadata": {
    "scrolled": true
   },
   "outputs": [],
   "source": [
    "#resultados = graficador('punto-2.41-1.0-0.81-0.19')\n"
   ]
  },
  {
   "cell_type": "code",
   "execution_count": 8,
   "id": "3786efbd",
   "metadata": {},
   "outputs": [
    {
     "data": {
      "application/vnd.jupyter.widget-view+json": {
       "model_id": "5194c9bec77640978856540adc0c27e8",
       "version_major": 2,
       "version_minor": 0
      },
      "text/plain": [
       "interactive(children=(SelectionSlider(description='Punto de rutina', options=(1.1, 1.2, 1.3, 1.4, 1.5, 1.6, 1.…"
      ]
     },
     "metadata": {},
     "output_type": "display_data"
    },
    {
     "data": {
      "application/vnd.jupyter.widget-view+json": {
       "model_id": "f5e55a83914f4f86a42e9debbc737681",
       "version_major": 2,
       "version_minor": 0
      },
      "text/plain": [
       "interactive(children=(SelectionSlider(description='Gap', options=(1, 2, 3, 4, 5), value=1), Dropdown(descripti…"
      ]
     },
     "metadata": {},
     "output_type": "display_data"
    }
   ],
   "source": [
    "graficador('aprox-lineal-2mat')"
   ]
  },
  {
   "cell_type": "code",
   "execution_count": 9,
   "id": "61765b0a",
   "metadata": {},
   "outputs": [],
   "source": [
    "#print(resultados)"
   ]
  },
  {
   "cell_type": "code",
   "execution_count": 10,
   "id": "e3fbaea5",
   "metadata": {},
   "outputs": [],
   "source": [
    "#graficador('epsilon-a', mostrar_velocidades=True\n",
    "           #puntos=puntos_epsilon_a,\n",
    "           #num_bandas=6,\n",
    "           #pola='te'#,\n",
    "           #ejex='Puntos de la rutina (u.i)',\n",
    "           #ejey=lambda num_gap: 'Gap ' + str(num_gap) + ' (c/a)',\n",
    "           #titulo=lambda num_gap: 'del gap ' + str(num_gap) + ' en función de los puntos de la rutina',\n",
    "           #param_red=0.63e-6,\n",
    "           #rango=[0.0,1.0e15]\n",
    "#          )"
   ]
  },
  {
   "cell_type": "code",
   "execution_count": 11,
   "id": "ab6515a2",
   "metadata": {},
   "outputs": [],
   "source": [
    "#graficador('rutina-num')"
   ]
  },
  {
   "cell_type": "code",
   "execution_count": 12,
   "id": "23100add",
   "metadata": {},
   "outputs": [],
   "source": [
    "#graficador('rutina-num-bandas')"
   ]
  },
  {
   "cell_type": "code",
   "execution_count": 13,
   "id": "6f65c721",
   "metadata": {},
   "outputs": [],
   "source": [
    "#graficador('rutina-resolucion')"
   ]
  },
  {
   "cell_type": "code",
   "execution_count": 14,
   "id": "a67e0dda",
   "metadata": {},
   "outputs": [],
   "source": [
    "#graficador('rutina-mesh')"
   ]
  },
  {
   "cell_type": "code",
   "execution_count": 15,
   "id": "9b2874be",
   "metadata": {},
   "outputs": [],
   "source": [
    "#graficador(resultados,\n",
    "#           puntos=0,\n",
    "#           num_bandas=6,\n",
    "#           pola='te',\n",
    "#           texto=0,\n",
    "#           param_red=0.0,\n",
    "#           rango=0.0,\n",
    "#           mostrar_velocidades=False\n",
    "#          )\n",
    "\n",
    "texto_lineal = { 'bandas' : { 'titulo' : lambda track,pola,identidad: \n",
    "                                         str(track+1) + \" bandas \" + pola.upper() + \" con e maximo \" + identidad,\n",
    "                         'ejex' : lambda _: 'Vector de onda (ka/2pi)',\n",
    "                         'ejey' : lambda _: 'Frecuencia (wa/2pic)'\n",
    "                     },\n",
    "            'vels' : { 'titulo' : lambda track,pola,identidad: \n",
    "                                         \"Velocidades de grupo para \" + str(track+1) + \" bandas \"\n",
    "                                          + pola.upper() + \" con \" + identidad,\n",
    "                         'ejex' : lambda _: 'Vector de onda (ka/2pi)',\n",
    "                         'ejey' : lambda _: 'Frecuencia (wa/2pic)'\n",
    "                     },\n",
    "          'rutina' : { 'titulo' : lambda num_gap: 'del gap ' + str(num_gap) \n",
    "                                         + ' en función del e maximo', \n",
    "                         'ejex' : lambda _: 'e maximo (adim.)',\n",
    "                         'ejey' : lambda num_gap: 'Gap ' + str(num_gap) + ' (c/a)'\n",
    "                     },\n",
    "         'widgets' : { 'puntos' : lambda _: 'e maximo',\n",
    "                      'num_gap' : lambda _: 'Gap',\n",
    "                        'serie' : lambda _: 'Serie:'\n",
    "                     }\n",
    "        }\n",
    "\n",
    "texto_2mat = { 'bandas' : { 'titulo' : lambda track,pola,identidad: \n",
    "                                         str(track+1) + \" bandas \" + pola.upper() + \" con \" + identidad,\n",
    "                         'ejex' : lambda _: 'Vector de onda (ka/2pi)',\n",
    "                         'ejey' : lambda _: 'Frecuencia (wa/2pic)'\n",
    "                     },\n",
    "            'vels' : { 'titulo' : lambda track,pola,identidad: \n",
    "                                         \"Velocidades de grupo para \" + str(track+1) + \" bandas \"\n",
    "                                          + pola.upper() + \" con \" + identidad,\n",
    "                         'ejex' : lambda _: 'Vector de onda (ka/2pi)',\n",
    "                         'ejey' : lambda _: 'Frecuencia (wa/2pic)'\n",
    "                     },\n",
    "          'rutina' : { 'titulo' : lambda num_gap: 'del gap ' + str(num_gap) \n",
    "                                         + ' en función de los puntos de la rutina', \n",
    "                         'ejex' : lambda _: 'e grande (adim.)',\n",
    "                         'ejey' : lambda num_gap: 'Gap ' + str(num_gap) + ' (c/a)'\n",
    "                     },\n",
    "         'widgets' : { 'puntos' : lambda _: 'e1',\n",
    "                      'num_gap' : lambda _: 'Gap',\n",
    "                        'serie' : lambda _: 'Serie:'\n",
    "                     }\n",
    "        }\n",
    "\n",
    "texto_3mat = { 'bandas' : { 'titulo' : lambda track,pola,identidad: \n",
    "                                         str(track+1) + \" bandas \" + pola.upper() + \" con \" + identidad,\n",
    "                         'ejex' : lambda _: 'Vector de onda (ka/2pi)',\n",
    "                         'ejey' : lambda _: 'Frecuencia (wa/2pic)'\n",
    "                     },\n",
    "            'vels' : { 'titulo' : lambda track,pola,identidad: \n",
    "                                         \"Velocidades de grupo para \" + str(track+1) + \" bandas \"\n",
    "                                          + pola.upper() + \" con \" + identidad,\n",
    "                         'ejex' : lambda _: 'Vector de onda (ka/2pi)',\n",
    "                         'ejey' : lambda _: 'Frecuencia (wa/2pic)'\n",
    "                     },\n",
    "          'rutina' : { 'titulo' : lambda num_gap: 'del gap ' + str(num_gap) \n",
    "                                         + ' en función de los puntos de la rutina', \n",
    "                         'ejex' : lambda _: 'e grande (adim.)',\n",
    "                         'ejey' : lambda num_gap: 'Gap ' + str(num_gap) + ' (c/a)'\n",
    "                     },\n",
    "         'widgets' : { 'puntos' : lambda _: 'e1',\n",
    "                      'num_gap' : lambda _: 'Gap',\n",
    "                        'serie' : lambda _: 'Serie:'\n",
    "                     }\n",
    "        }\n",
    "\n",
    "\n"
   ]
  },
  {
   "cell_type": "code",
   "execution_count": 16,
   "id": "d5a618cf",
   "metadata": {},
   "outputs": [
    {
     "data": {
      "application/vnd.jupyter.widget-view+json": {
       "model_id": "4daeb92ccda1407192eee45a84abda27",
       "version_major": 2,
       "version_minor": 0
      },
      "text/plain": [
       "interactive(children=(SelectionSlider(description='e maximo', options=(1.1, 1.2, 1.3, 1.4, 1.5, 1.6, 1.7, 1.8,…"
      ]
     },
     "metadata": {},
     "output_type": "display_data"
    },
    {
     "data": {
      "application/vnd.jupyter.widget-view+json": {
       "model_id": "a88a740c0caa4ed2ba4f7148d0c7cd08",
       "version_major": 2,
       "version_minor": 0
      },
      "text/plain": [
       "interactive(children=(SelectionSlider(description='Gap', options=(1, 2, 3, 4, 5), value=1), Dropdown(descripti…"
      ]
     },
     "metadata": {},
     "output_type": "display_data"
    }
   ],
   "source": [
    "resultados = graficador('lineal', texto=texto_lineal, num_bandas=6)\n"
   ]
  },
  {
   "cell_type": "code",
   "execution_count": 17,
   "id": "007b462b",
   "metadata": {},
   "outputs": [],
   "source": [
    "#tipo = 'Ancho TE'\n",
    "#num_gap = 1\n",
    "#np.max(resultados['gaps'][tipo][num_gap-1])\n",
    "#np.where(resultados['gaps'][tipo][num_gap-1] == np.max(resultados['gaps'][tipo][num_gap-1]))\n",
    "#resultados['puntos'][16]"
   ]
  },
  {
   "cell_type": "code",
   "execution_count": 18,
   "id": "265803e5",
   "metadata": {},
   "outputs": [],
   "source": [
    "#graficador('lineal-2mat', texto=texto_2mat, num_bandas=6)\n"
   ]
  },
  {
   "cell_type": "code",
   "execution_count": 19,
   "id": "05e1b879",
   "metadata": {},
   "outputs": [],
   "source": [
    "#graficador('lineal-3mat', texto=texto_3mat, num_bandas=6)\n"
   ]
  },
  {
   "cell_type": "code",
   "execution_count": 20,
   "id": "f9dd5fe4",
   "metadata": {},
   "outputs": [],
   "source": [
    "#graficador('aprox-lineal2-2mat', num_bandas =8)"
   ]
  },
  {
   "cell_type": "code",
   "execution_count": 21,
   "id": "dcb7ee48",
   "metadata": {},
   "outputs": [],
   "source": [
    "#graficador('aprox-lineal2-3mat', num_bandas=8)"
   ]
  },
  {
   "cell_type": "code",
   "execution_count": 22,
   "id": "e646caaa",
   "metadata": {},
   "outputs": [],
   "source": [
    "#graficador('aprox-lineal2-10mat', num_bandas=8)"
   ]
  },
  {
   "cell_type": "code",
   "execution_count": 26,
   "id": "eb0b7e13",
   "metadata": {},
   "outputs": [
    {
     "data": {
      "application/vnd.jupyter.widget-view+json": {
       "model_id": "060f2b2b10084609bae974f62b38aa29",
       "version_major": 2,
       "version_minor": 0
      },
      "text/plain": [
       "interactive(children=(SelectionSlider(description='Punto de rutina', options=(1.0, 1.1, 1.2, 1.3, 1.4, 1.5, 1.…"
      ]
     },
     "metadata": {},
     "output_type": "display_data"
    },
    {
     "data": {
      "application/vnd.jupyter.widget-view+json": {
       "model_id": "b568d69779034df6a2372a5d0c327d47",
       "version_major": 2,
       "version_minor": 0
      },
      "text/plain": [
       "interactive(children=(SelectionSlider(description='Gap', options=(1, 2, 3, 4, 5), value=1), Dropdown(descripti…"
      ]
     },
     "metadata": {},
     "output_type": "display_data"
    }
   ],
   "source": [
    "graficador('para-efectivo', num_bandas=6)"
   ]
  }
 ],
 "metadata": {
  "kernelspec": {
   "display_name": "Python 3 (ipykernel)",
   "language": "python",
   "name": "python3"
  },
  "language_info": {
   "codemirror_mode": {
    "name": "ipython",
    "version": 3
   },
   "file_extension": ".py",
   "mimetype": "text/x-python",
   "name": "python",
   "nbconvert_exporter": "python",
   "pygments_lexer": "ipython3",
   "version": "3.9.13"
  }
 },
 "nbformat": 4,
 "nbformat_minor": 5
}
