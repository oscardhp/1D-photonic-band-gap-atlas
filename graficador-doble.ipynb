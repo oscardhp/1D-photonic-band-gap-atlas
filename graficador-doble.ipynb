{
 "cells": [
  {
   "cell_type": "code",
   "execution_count": 1,
   "id": "64a9fcf5",
   "metadata": {},
   "outputs": [
    {
     "data": {
      "application/javascript": [
       "IPython.OutputArea.prototype._should_scroll = function(lines) {\n",
       "    return false;\n",
       "}\n"
      ],
      "text/plain": [
       "<IPython.core.display.Javascript object>"
      ]
     },
     "metadata": {},
     "output_type": "display_data"
    }
   ],
   "source": [
    "%%javascript\n",
    "IPython.OutputArea.prototype._should_scroll = function(lines) {\n",
    "    return false;\n",
    "}\n"
   ]
  },
  {
   "cell_type": "code",
   "execution_count": 2,
   "id": "a7898a4c",
   "metadata": {},
   "outputs": [],
   "source": [
    "%matplotlib inline\n",
    "import ipywidgets\n",
    "from funciones import *\n",
    "from ipywidgets import fixed\n",
    "from functools import partial\n",
    "from IPython.display import display\n",
    "from mpl_toolkits.mplot3d import axes3d\n",
    "\n",
    "# backends: notebook, inline, ipympl...\n"
   ]
  },
  {
   "cell_type": "code",
   "execution_count": 3,
   "id": "71932eea",
   "metadata": {},
   "outputs": [
    {
     "name": "stdout",
     "output_type": "stream",
     "text": [
      "[[1.5, 0.4], [2.5, 0.4], [3.5, 0.4], [1.5, 0.6], [2.5, 0.6], [3.5, 0.6], [1.5, 0.8], [2.5, 0.8], [3.5, 0.8]]\n"
     ]
    }
   ],
   "source": [
    "\n",
    "puntos_prueba1 = [1.5,2.5,3.5]\n",
    "puntos_prueba2 = [0.4,0.6,0.8]\n",
    "\n",
    "'''\n",
    "resultados = rutina_doble(num_bandas=8,\n",
    "           archivo_control=ctl_num([20,512,50,500], 'control-2mat.ctl'),\n",
    "           control=[2.35,1.0,0.81,0.19], #e1,e2,e3,a1,a2,a3\n",
    "           puntos1=[1.5,2.5,3.5],\n",
    "           puntos2=[0.4,0.6,0.8],\n",
    "           tipo=['2mat',0,2], # num, mat o lineal. indice (en control) para introduccion   \n",
    "           cifras=2, # solo se usa para el balance de proporciones\n",
    "           nombre='rutina-doble',\n",
    "           funcion=partial(balance_proporcional2,\n",
    "                           puntos=[0.4,0.6,0.8],\n",
    "                           material=1,\n",
    "                           cifras=2\n",
    "                          )\n",
    "          )\n",
    "'''\n",
    "\n",
    "with open('resultados-rutina-doble.pkl', 'rb') as f:\n",
    "    resultados0 = pickle.load(f)\n",
    "\n",
    "print(resultados0['lista'])\n",
    "    "
   ]
  },
  {
   "cell_type": "code",
   "execution_count": 4,
   "id": "a59758a8",
   "metadata": {},
   "outputs": [
    {
     "name": "stdout",
     "output_type": "stream",
     "text": [
      "[[1.5, 0.4], [2.5, 0.4], [3.5, 0.4], [1.5, 0.6], [2.5, 0.6], [3.5, 0.6], [1.5, 0.8], [2.5, 0.8], [3.5, 0.8]]\n"
     ]
    }
   ],
   "source": [
    "#print(resultados)\n",
    "grilla1 , grilla2 = np.meshgrid(puntos_prueba1, puntos_prueba2)\n",
    "Z = np.zeros((len(grilla1), len(grilla1[0]) ))\n",
    "\n",
    "#for i in range(len(grilla1)):\n",
    "#    for j in range(len(grilla1[0])):\n",
    "#        Z[i][j] = extraer(grilla1[i][j],grilla2[i][j],num_gap,tipo,resultados)      \n",
    "    \n",
    "lista = []\n",
    "for i in range(len(puntos_prueba2)):\n",
    "    for j in range(len(puntos_prueba1)):\n",
    "        lista.append([grilla1[i][j], grilla2[i][j]])\n",
    "\n",
    "print(lista)\n"
   ]
  },
  {
   "cell_type": "code",
   "execution_count": 3,
   "id": "f7b4d9d3",
   "metadata": {},
   "outputs": [],
   "source": [
    "texto = { 'bandas' : { 'titulo' : lambda track,pola,identidad: \n",
    "                                         str(track+1) + \" bandas \" + pola.upper() + \" con \" + identidad,\n",
    "                         'ejex' : lambda _: 'Vector de onda (ka/2pi)',\n",
    "                         'ejey' : lambda _: 'Frecuencia (wa/2pic)'\n",
    "                     },\n",
    "            'vels' : { 'titulo' : lambda track,pola,identidad: \n",
    "                                         \"Velocidades de grupo para \" + str(track+1) + \" bandas \"\n",
    "                                          + pola.upper() + \" con \" + identidad,\n",
    "                         'ejex' : lambda _: 'Vector de onda (ka/2pi)',\n",
    "                         'ejey' : lambda _: 'Frecuencia (wa/2pic)'\n",
    "                     },\n",
    "              '3d' : { 'titulo' : lambda num_gap: 'del gap ' + str(num_gap) \n",
    "                                         + ' en función de los puntos de la rutina', \n",
    "                         'ejex' : lambda _: 'Puntos de la rutina 1 (u.i)',\n",
    "                         'ejey' : lambda _: 'Puntos de la rutina 2 (u.i)',\n",
    "                         'ejez' : lambda num_gap: 'Gap ' + str(num_gap) + ' (c/a)'\n",
    "                     },\n",
    "           'color' : { 'titulo' : lambda num_gap: 'del gap ' + str(num_gap) \n",
    "                                         + ' en función de los puntos de la rutina', \n",
    "                         'ejex' : lambda _: 'Puntos de la rutina 1 (u.i)',\n",
    "                         'ejey' : lambda _: 'Puntos de la rutina 2 (u.i)',\n",
    "                         'ejez' : lambda num_gap: 'Gap ' + str(num_gap) + ' (c/a)'\n",
    "                     },\n",
    "           'proy1' : { 'titulo' : lambda num_gap: 'del gap ' + str(num_gap) \n",
    "                                         + ' en función de los puntos de la rutina', \n",
    "                         'ejex' : lambda _: 'Puntos de la rutina 1 (u.i)',\n",
    "                         'ejey' : lambda num_gap: 'Gap ' + str(num_gap) + ' (c/a)'\n",
    "                     },\n",
    "           'proy2' : { 'titulo' : lambda num_gap: 'del gap ' + str(num_gap) \n",
    "                                         + ' en función de los puntos de la rutina', \n",
    "                         'ejex' : lambda _: 'Puntos de la rutina 2 (u.i)',\n",
    "                         'ejey' : lambda num_gap: 'Gap ' + str(num_gap) + ' (c/a)'\n",
    "                     },\n",
    "         'widgets' : {'puntos1' : lambda _: 'Puntos1',\n",
    "                      'puntos2' : lambda _: 'Puntos2',\n",
    "                      'num_gap' : lambda _: 'Gap',\n",
    "                        'serie' : lambda _: 'Serie:'\n",
    "                     }\n",
    "        }\n"
   ]
  },
  {
   "cell_type": "code",
   "execution_count": 4,
   "id": "44dbeb74",
   "metadata": {},
   "outputs": [],
   "source": [
    "def traductor(param_red, resultados):\n",
    "    c = 3.0e8\n",
    "    factor = c/param_red\n",
    "\n",
    "    for i in range(len(resultados['tefreqs'])):\n",
    "        resultados['tefreqs'][i] = factor*resultados['tefreqs'][i]\n",
    "    \n",
    "    resultados['gaps']['Ancho TE'] = factor*resultados['gaps']['Ancho TE']\n",
    "    resultados['gaps']['Promedio TE'] = factor*resultados['gaps']['Promedio TE']\n",
    "\n",
    "    return resultados\n",
    "\n",
    "\n",
    "def graficador(resultados,\n",
    "               puntos1=0,\n",
    "               puntos2=0,\n",
    "               num_bandas=6,\n",
    "               pola='te',\n",
    "               texto=0,\n",
    "               param_red=0.0,\n",
    "               rango_bandas=0.0,\n",
    "               rango_anchos=0.0,\n",
    "               mostrar_velocidades=False,\n",
    "               mostrar_3d=False\n",
    "              ):\n",
    "    \n",
    "    if isinstance(texto, int):\n",
    "        texto = { 'bandas' : { 'titulo' : lambda track,pola,identidad: \n",
    "                                                 str(track+1) + \" bandas \" + pola.upper() + \" con \" + identidad,\n",
    "                                 'ejex' : lambda _: 'Vector de onda (ka/2pi)',\n",
    "                                 'ejey' : lambda _: 'Frecuencia (wa/2pic)'\n",
    "                             },\n",
    "                    'vels' : { 'titulo' : lambda track,pola,identidad: \n",
    "                                                 \"Velocidades de grupo para \" + str(track+1) + \" bandas \"\n",
    "                                                  + pola.upper() + \" con \" + identidad,\n",
    "                                 'ejex' : lambda _: 'Vector de onda (ka/2pi)',\n",
    "                                 'ejey' : lambda _: 'Frecuencia (wa/2pic)'\n",
    "                             },\n",
    "                      '3d' : { 'titulo' : lambda num_gap: 'del gap ' + str(num_gap) \n",
    "                                                 + ' en función de los puntos de la rutina', \n",
    "                                 'ejex' : lambda _: 'Puntos de la rutina 1 (u.i)',\n",
    "                                 'ejey' : lambda _: 'Puntos de la rutina 2 (u.i)',\n",
    "                                 'ejez' : lambda num_gap: 'Gap ' + str(num_gap) + ' (c/a)'\n",
    "                             },\n",
    "                   'color' : { 'titulo' : lambda num_gap: 'del gap ' + str(num_gap) \n",
    "                                                 + ' en función de los puntos de la rutina', \n",
    "                                 'ejex' : lambda _: 'Puntos de la rutina 1 (u.i)',\n",
    "                                 'ejey' : lambda _: 'Puntos de la rutina 2 (u.i)',\n",
    "                                 'ejez' : lambda num_gap: 'Gap ' + str(num_gap) + ' (c/a)'\n",
    "                             },\n",
    "                   'proy1' : { 'titulo' : lambda num_gap: 'del gap ' + str(num_gap) \n",
    "                                                 + ' en función de los puntos de la rutina', \n",
    "                                 'ejex' : lambda _: 'Puntos de la rutina 1 (u.i)',\n",
    "                                 'ejey' : lambda num_gap: 'Gap ' + str(num_gap) + ' (c/a)'\n",
    "                             },\n",
    "                   'proy2' : { 'titulo' : lambda num_gap: 'del gap ' + str(num_gap) \n",
    "                                                 + ' en función de los puntos de la rutina', \n",
    "                                 'ejex' : lambda _: 'Puntos de la rutina 2 (u.i)',\n",
    "                                 'ejey' : lambda num_gap: 'Gap ' + str(num_gap) + ' (c/a)'\n",
    "                             },\n",
    "                 'widgets' : {'puntos1' : lambda _: 'Puntos1',\n",
    "                              'puntos2' : lambda _: 'Puntos2',\n",
    "                              'num_gap' : lambda _: 'Gap',\n",
    "                                'serie' : lambda _: 'Serie:'\n",
    "                             }\n",
    "                }\n",
    "\n",
    "        \n",
    "    \n",
    "    try:\n",
    "        with open('resultados-' + resultados + '.pkl', 'rb') as f:\n",
    "            resultados = pickle.load(f)\n",
    "    except:\n",
    "        try:\n",
    "            with open(resultados + '/resultados-' + resultados + '.pkl', 'rb') as f:\n",
    "                resultados = pickle.load(f)\n",
    "        except:\n",
    "            pass\n",
    "        \n",
    "    if isinstance(puntos1, int): puntos1 = resultados['puntos'][0]\n",
    "    if isinstance(puntos2, int): puntos2 = resultados['puntos'][1]\n",
    "    \n",
    "    grilla1 , grilla2 = np.meshgrid(puntos1, puntos2)\n",
    "    Z = np.zeros((len(grilla1), len(grilla1[0]) )) \n",
    "    \n",
    "    lista = []\n",
    "    for i in range(len(puntos2)):\n",
    "        for j in range(len(puntos1)):\n",
    "            lista.append([grilla1[i][j], grilla2[i][j]])\n",
    "    \n",
    "    if (pola=='te'):\n",
    "        llaves = ['tefreqs', 'tevels',  'Ancho TE', 'Promedio TE', 'Porcentaje TE']\n",
    "    elif (pola=='tm'):\n",
    "        llaves = ['tmfreqs', 'tmvels',  'Ancho TM', 'Promedio TM', 'Porcentaje TM']\n",
    "    \n",
    "    if (param_red != 0.0):\n",
    "        resultados = traductor(param_red, resultados)\n",
    "    \n",
    "    def func_indice(valor,donde): \n",
    "        try:\n",
    "            indice = int(np.where(donde == valor)[0][0])\n",
    "        except:\n",
    "            indice = donde.index(valor)\n",
    "        return indice\n",
    "    \n",
    "    def graf_bandas(valor1, valor2, num_bandas, track=num_bandas-1):\n",
    "        indice = func_indice([valor1,valor2],lista)\n",
    "        fig, ax = plt.subplots()\n",
    "        for i in range(track+1):\n",
    "            k_vector = np.linspace(-0.5, 0.5, int(len(resultados[llaves[0]][indice][i])))\n",
    "            ax.scatter(k_vector, resultados[llaves[0]][indice][i], c='r', s=0.1)\n",
    "        \n",
    "        parametros = resultados['parametros'][indice]\n",
    "        identidad = str(parametros[0])\n",
    "        for i in range(len(parametros)-1):\n",
    "            identidad = identidad + '-' + str(parametros[i+1])\n",
    "\n",
    "        ax.set_xlabel(texto['bandas']['ejex'](0))\n",
    "        ax.set_ylabel(texto['bandas']['ejey'](0))\n",
    "        ax.set_title(texto['bandas']['titulo'](track,pola,identidad))\n",
    "        \n",
    "        if (rango_bandas != 0.0):\n",
    "            ax.set_ylim(rango_bandas)\n",
    "        \n",
    "    def graf_vels(valor1, valor2, num_bandas=num_bandas, track=num_bandas-1):\n",
    "        indice = func_indice([valor1,valor2],lista)\n",
    "        fig, ax = plt.subplots()\n",
    "        for i in range(track+1):\n",
    "            k_vector = np.linspace(-0.5, 0.5, int(len(resultados[llaves[1]][indice][i])))\n",
    "            ax.scatter(k_vector, resultados[llaves[1]][indice][i], c='r', s=0.1)\n",
    "        \n",
    "        parametros = resultados['parametros'][indice]\n",
    "        identidad = str(parametros[0])\n",
    "        for i in range(len(parametros)-1):\n",
    "            identidad = identidad + '-' + str(parametros[i+1])\n",
    "\n",
    "        ax.set_xlabel(texto['bandas']['ejex'](0))\n",
    "        ax.set_ylabel(texto['bandas']['ejey'](0))\n",
    "        ax.set_title(texto['bandas']['titulo'](track,pola,identidad))\n",
    "        \n",
    "        if (rango_bandas != 0.0):\n",
    "            ax.set_ylim(rango_bandas)\n",
    "            \n",
    "    def graf_3d(num_gap=1, tipo=llaves[2]):\n",
    "        #grilla1 , grilla2 = np.meshgrid(puntos1, puntos2)\n",
    "        #Z = np.zeros((len(grilla1), len(grilla1[0]) ))\n",
    "        for i in range(len(grilla1)):\n",
    "            for j in range(len(grilla1[0])):\n",
    "                indice = func_indice([grilla1[i][j],grilla2[i][j]],lista)\n",
    "                Z[i][j] = resultados['gaps'][tipo][num_gap-1][indice]\n",
    "    \n",
    "        fig = plt.figure()\n",
    "        ax = fig.add_subplot(projection='3d')\n",
    "        #ax.plot_wireframe(grilla1,grilla2,Z)\n",
    "        #ax.plot_surface(grilla1,grilla2,Z)\n",
    "        ax.scatter(grilla1,grilla2,Z)\n",
    "        ax.set_xlabel(texto['3d']['ejex'](0))\n",
    "        ax.set_ylabel(texto['3d']['ejey'](0))\n",
    "        ax.set_zlabel(texto['3d']['ejez'](0))\n",
    "        if (tipo==llaves[2]):\n",
    "            ax.set_title(\"Ancho \" + texto['3d']['titulo'](num_gap))\n",
    "        elif (tipo==llaves[3]):\n",
    "            ax.set_title(\"Promedio \" + texto['3d']['titulo'](num_gap))\n",
    "        else:\n",
    "            ax.set_title(\"Porcentaje \" + texto['3d']['titulo'](num_gap))\n",
    "        #ax.set_zlabel(\"omega\")\n",
    "        #ax.set_title(\"función de contraste y proporción de material\")\n",
    "\n",
    "    def graf_color(num_gap=1, tipo=llaves[2]):\n",
    "        #grilla1 , grilla2 = np.meshgrid(puntos1, puntos2)\n",
    "        #Z = np.zeros((len(grilla1), len(grilla1[0]) ))\n",
    "        for i in range(len(grilla1)):\n",
    "            for j in range(len(grilla1[0])):\n",
    "                indice = func_indice([grilla1[i][j],grilla2[i][j]],lista)\n",
    "                Z[i][j] = resultados['gaps'][tipo][num_gap-1][indice]     \n",
    "    \n",
    "        #fig = plt.figure()\n",
    "        #plt.pcolormesh(puntos_epsilon_fino, puntos_tamanho_fino,Z)\n",
    "        #plt.colorbar()\n",
    "        \n",
    "        fig, ax = plt.subplots()\n",
    "        plt.pcolormesh(puntos1,puntos2,Z)\n",
    "        cbar = plt.colorbar()\n",
    "        ax.set_xlabel(texto['color']['ejex'](0))\n",
    "        ax.set_ylabel(texto['color']['ejey'](0))\n",
    "        cbar.set_label(texto['color']['ejez'](num_gap))\n",
    "        if (tipo==llaves[2]):\n",
    "            ax.set_title(\"Ancho \" + texto['color']['titulo'](num_gap))\n",
    "        elif (tipo==llaves[3]):\n",
    "            ax.set_title(\"Promedio \" + texto['color']['titulo'](num_gap))\n",
    "        else:\n",
    "            ax.set_title(\"Porcentaje \" + texto['color']['titulo'](num_gap))\n",
    "        \n",
    "        #opcional\n",
    "        #plt.xticks(puntos_epsilon_doble)\n",
    "        #plt.yticks(puntos_tamanho_doble)\n",
    "        \n",
    "        \n",
    "    def graf_proyeccion1(valor2, num_gap=1,tipo=llaves[2]):\n",
    "        matriz = np.resize(resultados['gaps'][tipo][num_gap-1],( int(len(puntos2)),int(len(puntos1)) ))\n",
    "        indice = func_indice(valor2,puntos2)\n",
    "        fig, ax = plt.subplots()\n",
    "        fig.subplots_adjust(0.2,0.2)\n",
    "        plt.ticklabel_format(style='plain', useOffset=False)\n",
    "        ax.scatter(puntos1, matriz[indice], c='r')\n",
    "        ax.set_xlabel(texto['proy1']['ejex'](0))\n",
    "        ax.set_ylabel(texto['proy1']['ejey'](num_gap))\n",
    "        if (tipo==llaves[2]):\n",
    "            ax.set_title(\"Ancho \" + texto['proy1']['titulo'](num_gap))\n",
    "            if (param_red != 0.0):\n",
    "                ax.ticklabel_format(style='sci',scilimits=(0,0),axis='y')\n",
    "        elif (tipo==llaves[3]):\n",
    "            ax.set_title(\"Promedio \" + texto['proy1']['titulo'](num_gap))\n",
    "            if (param_red != 0.0):\n",
    "                ax.ticklabel_format(style='sci',scilimits=(0,0),axis='y')\n",
    "        else:\n",
    "            ax.set_title(\"Porcentaje \" + texto['proy1']['titulo'](num_gap))\n",
    "        \n",
    "    def graf_proyeccion2(valor1, num_gap=1,tipo=llaves[2]):\n",
    "        matriz = np.resize(resultados['gaps'][tipo][num_gap-1],( int(len(puntos2)),int(len(puntos1)) ))\n",
    "        indice = func_indice(valor1,puntos1)\n",
    "        fig, ax = plt.subplots()\n",
    "        fig.subplots_adjust(0.2,0.2)\n",
    "        plt.ticklabel_format(style='plain', useOffset=False)\n",
    "        ax.scatter(puntos2, np.transpose(matriz)[indice], c='r')\n",
    "        ax.set_xlabel(texto['proy2']['ejex'](0))\n",
    "        ax.set_ylabel(texto['proy2']['ejey'](num_gap))\n",
    "        if (tipo==llaves[2]):\n",
    "            ax.set_title(\"Ancho \" + texto['proy2']['titulo'](num_gap))\n",
    "            if (param_red != 0.0):\n",
    "                ax.ticklabel_format(style='sci',scilimits=(0,0),axis='y')\n",
    "        elif (tipo==llaves[3]):\n",
    "            ax.set_title(\"Promedio \" + texto['proy2']['titulo'](num_gap))\n",
    "            if (param_red != 0.0):\n",
    "                ax.ticklabel_format(style='sci',scilimits=(0,0),axis='y')\n",
    "        else:\n",
    "            ax.set_title(\"Porcentaje \" + texto['proy2']['titulo'](num_gap))\n",
    "            \n",
    "    \n",
    "    ipywidgets.interact(graf_bandas,\n",
    "                        valor1=ipywidgets.SelectionSlider(description=texto['widgets']['puntos1'](0),\n",
    "                                                          options=puntos1\n",
    "                                                         ),\n",
    "                        valor2=ipywidgets.SelectionSlider(description=texto['widgets']['puntos2'](0),\n",
    "                                                          options=puntos2\n",
    "                                                         ),\n",
    "                        num_bandas=fixed(num_bandas),\n",
    "                        track=fixed(num_bandas-1)\n",
    "                       )\n",
    "    if (mostrar_velocidades==True):\n",
    "        ipywidgets.interact(graf_vels,\n",
    "                            valor1=ipywidgets.SelectionSlider(description=texto['widgets']['puntos1'](0),\n",
    "                                                              options=puntos1\n",
    "                                                             ),\n",
    "                            valor2=ipywidgets.SelectionSlider(description=texto['widgets']['puntos2'](0),\n",
    "                                                              options=puntos2\n",
    "                                                             ),\n",
    "                            num_bandas=fixed(num_bandas),\n",
    "                            track=fixed(num_bandas-1)\n",
    "                           )\n",
    "    if (mostrar_3d==True):\n",
    "        ipywidgets.interact(graf_3d,\n",
    "                            num_gap=ipywidgets.SelectionSlider(description=texto['widgets']['num_gap'](0),\n",
    "                                                               options=np.arange(1,num_bandas,1)\n",
    "                                                              ),\n",
    "                            tipo=ipywidgets.Dropdown(options=[llaves[2], llaves[3], llaves[4]],\n",
    "                                                     value=llaves[2],\n",
    "                                                     description=texto['widgets']['serie'](0),\n",
    "                                                     disabled=False,\n",
    "                                                    )\n",
    "                           )\n",
    "    \n",
    "    ipywidgets.interact(graf_color,\n",
    "                        num_gap=ipywidgets.SelectionSlider(description=texto['widgets']['num_gap'](0),\n",
    "                                                         options=np.arange(1,num_bandas,1)\n",
    "                                                        ),\n",
    "                        tipo=ipywidgets.Dropdown(options=[llaves[2], llaves[3], llaves[4]],\n",
    "                                             value=llaves[2],\n",
    "                                             description=texto['widgets']['serie'](0),\n",
    "                                             disabled=False,\n",
    "                                            )\n",
    "                       )\n",
    "    \n",
    "    ipywidgets.interact(graf_proyeccion1,\n",
    "                        valor2=ipywidgets.SelectionSlider(description=texto['widgets']['puntos2'](0),\n",
    "                                                         options=puntos2\n",
    "                                                        ),\n",
    "                        num_gap=ipywidgets.SelectionSlider(description=texto['widgets']['num_gap'](0),\n",
    "                                                         options=np.arange(1,num_bandas,1)\n",
    "                                                        ),\n",
    "                        tipo=ipywidgets.Dropdown(options=[llaves[2], llaves[3], llaves[4]],\n",
    "                                             value=llaves[2],\n",
    "                                             description=texto['widgets']['serie'](0),\n",
    "                                             disabled=False,\n",
    "                                            )\n",
    "                       )\n",
    "\n",
    "    ipywidgets.interact(graf_proyeccion2,\n",
    "                        valor1=ipywidgets.SelectionSlider(description=texto['widgets']['puntos1'](0),\n",
    "                                                         options=puntos1\n",
    "                                                        ),\n",
    "                        num_gap=ipywidgets.SelectionSlider(description=texto['widgets']['num_gap'](0),\n",
    "                                                         options=np.arange(1,num_bandas,1)\n",
    "                                                        ),\n",
    "                        tipo=ipywidgets.Dropdown(options=[llaves[2], llaves[3], llaves[4]],\n",
    "                                             value=llaves[2],\n",
    "                                             description=texto['widgets']['serie'](0),\n",
    "                                             disabled=False,\n",
    "                                            )\n",
    "                       )\n",
    "#    return resultados"
   ]
  },
  {
   "cell_type": "code",
   "execution_count": 7,
   "id": "67cc3420",
   "metadata": {},
   "outputs": [
    {
     "data": {
      "text/plain": [
       "\"\\ngraficador(puntos_prueba1,\\n           puntos_prueba2,\\n           resultados,\\n           num_bandas=6,\\n           pola='te',\\n           #ejex='Puntos de la rutina (u.i)',\\n           #ejey=lambda num_gap: 'Gap ' + str(num_gap) + ' (c/a)',\\n           #titulo=lambda num_gap: 'del gap ' + str(num_gap) + ' en función de los puntos de la rutina',\\n           #param_red=0.0,\\n           #rango=0.0,\\n          )\\n\""
      ]
     },
     "execution_count": 7,
     "metadata": {},
     "output_type": "execute_result"
    }
   ],
   "source": [
    "'''\n",
    "graficador(puntos_prueba1,\n",
    "           puntos_prueba2,\n",
    "           resultados,\n",
    "           num_bandas=6,\n",
    "           pola='te',\n",
    "           #ejex='Puntos de la rutina (u.i)',\n",
    "           #ejey=lambda num_gap: 'Gap ' + str(num_gap) + ' (c/a)',\n",
    "           #titulo=lambda num_gap: 'del gap ' + str(num_gap) + ' en función de los puntos de la rutina',\n",
    "           #param_red=0.0,\n",
    "           #rango=0.0,\n",
    "          )\n",
    "'''\n",
    "#resultados0['gaps']['Ancho TE'][0]"
   ]
  },
  {
   "cell_type": "code",
   "execution_count": 8,
   "id": "7daefe3d",
   "metadata": {},
   "outputs": [],
   "source": [
    "#graficador(resultados0)#,\n",
    "           #puntos_prueba1,\n",
    "           #puntos_prueba2,\n",
    "           #num_bandas=6,\n",
    "           #pola='te',\n",
    "           #ejex='Puntos de la rutina (u.i)',\n",
    "           #ejey=lambda num_gap: 'Gap ' + str(num_gap) + ' (c/a)',\n",
    "           #titulo=lambda num_gap: 'del gap ' + str(num_gap) + ' en función de los puntos de la rutina',\n",
    "           #param_red=0.0,\n",
    "           #rango=0.0,\n",
    "          #)"
   ]
  },
  {
   "cell_type": "code",
   "execution_count": 9,
   "id": "bdb92791",
   "metadata": {},
   "outputs": [],
   "source": [
    "#graficador('exp-doble-2mat', mostrar_velocidades=False, mostrar_3d=False, param_red=0.63e-6)\n",
    "#graficador('3mat-aa2-reducido')"
   ]
  },
  {
   "cell_type": "code",
   "execution_count": 10,
   "id": "b88c71af",
   "metadata": {},
   "outputs": [],
   "source": [
    "texto_ea = { 'bandas' : { 'titulo' : lambda track,pola,identidad: \n",
    "                                         str(track+1) + \" bandas \" + pola.upper() + \" con \" + identidad,\n",
    "                         'ejex' : lambda _: 'Vector de onda (ka/2pi)',\n",
    "                         'ejey' : lambda _: 'Frecuencia (wa/2pic)'\n",
    "                     },\n",
    "            'vels' : { 'titulo' : lambda track,pola,identidad: \n",
    "                                         \"Velocidades de grupo para \" + str(track+1) + \" bandas \"\n",
    "                                          + pola.upper() + \" con \" + identidad,\n",
    "                         'ejex' : lambda _: 'Vector de onda (ka/2pi)',\n",
    "                         'ejey' : lambda _: 'Frecuencia (wa/2pic)'\n",
    "                     },\n",
    "              '3d' : { 'titulo' : lambda num_gap: 'del gap ' + str(num_gap) \n",
    "                                         + ' en función de los puntos de la rutina', \n",
    "                         'ejex' : lambda _: 'Puntos de la rutina 1 (u.i)',\n",
    "                         'ejey' : lambda _: 'Puntos de la rutina 2 (u.i)',\n",
    "                         'ejez' : lambda num_gap: 'Gap ' + str(num_gap) + ' (c/a)'\n",
    "                     },\n",
    "           'color' : { 'titulo' : lambda num_gap: 'del gap ' + str(num_gap) \n",
    "                                         + ' en función de e1 y alpha', \n",
    "                         'ejex' : lambda _: 'epsilon1 (adim.)',\n",
    "                         'ejey' : lambda _: 'alpha (adim.)',\n",
    "                         'ejez' : lambda num_gap: 'Gap ' + str(num_gap) + ' (c/a)'\n",
    "                     },\n",
    "           'proy1' : { 'titulo' : lambda num_gap: 'del gap ' + str(num_gap) \n",
    "                                         + ' en función de e1', \n",
    "                         'ejex' : lambda _: 'epsilon1 (adim.)',\n",
    "                         'ejey' : lambda num_gap: 'Gap ' + str(num_gap) + ' (c/a)'\n",
    "                     },\n",
    "           'proy2' : { 'titulo' : lambda num_gap: 'del gap ' + str(num_gap) \n",
    "                                         + ' en función de alpha', \n",
    "                         'ejex' : lambda _: 'alpha (adim.)',\n",
    "                         'ejey' : lambda num_gap: 'Gap ' + str(num_gap) + ' (c/a)'\n",
    "                     },\n",
    "         'widgets' : {'puntos1' : lambda _: 'e1',\n",
    "                      'puntos2' : lambda _: 'a1',\n",
    "                      'num_gap' : lambda _: 'Gap',\n",
    "                        'serie' : lambda _: 'Serie:'\n",
    "                     }\n",
    "        }\n",
    "\n",
    "texto_ee = { 'bandas' : { 'titulo' : lambda track,pola,identidad: \n",
    "                                         str(track+1) + \" bandas \" + pola.upper() + \" con \" + identidad,\n",
    "                         'ejex' : lambda _: 'Vector de onda (ka/2pi)',\n",
    "                         'ejey' : lambda _: 'Frecuencia (wa/2pic)'\n",
    "                     },\n",
    "            'vels' : { 'titulo' : lambda track,pola,identidad: \n",
    "                                         \"Velocidades de grupo para \" + str(track+1) + \" bandas \"\n",
    "                                          + pola.upper() + \" con \" + identidad,\n",
    "                         'ejex' : lambda _: 'Vector de onda (ka/2pi)',\n",
    "                         'ejey' : lambda _: 'Frecuencia (wa/2pic)'\n",
    "                     },\n",
    "              '3d' : { 'titulo' : lambda num_gap: 'del gap ' + str(num_gap) \n",
    "                                         + ' en función de los puntos de la rutina', \n",
    "                         'ejex' : lambda _: 'Puntos de la rutina 1 (u.i)',\n",
    "                         'ejey' : lambda _: 'Puntos de la rutina 2 (u.i)',\n",
    "                         'ejez' : lambda num_gap: 'Gap ' + str(num_gap) + ' (c/a)'\n",
    "                     },\n",
    "           'color' : { 'titulo' : lambda num_gap: 'del gap ' + str(num_gap) \n",
    "                                         + ' en función de e1 y fraccion epsilon', \n",
    "                         'ejex' : lambda _: 'e1 (adim.)',\n",
    "                         'ejey' : lambda _: 'fraccion epsilon (adim.)',\n",
    "                         'ejez' : lambda num_gap: 'Gap ' + str(num_gap) + ' (c/a)'\n",
    "                     },\n",
    "           'proy1' : { 'titulo' : lambda num_gap: 'del gap ' + str(num_gap) \n",
    "                                         + ' en función de e1', \n",
    "                         'ejex' : lambda _: 'e1 (adim.)',\n",
    "                         'ejey' : lambda num_gap: 'Gap ' + str(num_gap) + ' (c/a)'\n",
    "                     },\n",
    "           'proy2' : { 'titulo' : lambda num_gap: 'del gap ' + str(num_gap) \n",
    "                                         + ' en función de fraccion epsilon', \n",
    "                         'ejex' : lambda _: 'fraccion epsilon (adim.)',\n",
    "                         'ejey' : lambda num_gap: 'Gap ' + str(num_gap) + ' (c/a)'\n",
    "                     },\n",
    "         'widgets' : {'puntos1' : lambda _: 'e1',\n",
    "                      'puntos2' : lambda _: 'frac',\n",
    "                      'num_gap' : lambda _: 'Gap',\n",
    "                        'serie' : lambda _: 'Serie:'\n",
    "                     }\n",
    "        }\n",
    "\n",
    "texto_aa = { 'bandas' : { 'titulo' : lambda track,pola,identidad: \n",
    "                                         str(track+1) + \" bandas \" + pola.upper() + \" con \" + identidad,\n",
    "                         'ejex' : lambda _: 'Vector de onda (ka/2pi)',\n",
    "                         'ejey' : lambda _: 'Frecuencia (wa/2pic)'\n",
    "                     },\n",
    "            'vels' : { 'titulo' : lambda track,pola,identidad: \n",
    "                                         \"Velocidades de grupo para \" + str(track+1) + \" bandas \"\n",
    "                                          + pola.upper() + \" con \" + identidad,\n",
    "                         'ejex' : lambda _: 'Vector de onda (ka/2pi)',\n",
    "                         'ejey' : lambda _: 'Frecuencia (wa/2pic)'\n",
    "                     },\n",
    "              '3d' : { 'titulo' : lambda num_gap: 'del gap ' + str(num_gap) \n",
    "                                         + ' en función de los puntos de la rutina', \n",
    "                         'ejex' : lambda _: 'Puntos de la rutina 1 (u.i)',\n",
    "                         'ejey' : lambda _: 'Puntos de la rutina 2 (u.i)',\n",
    "                         'ejez' : lambda num_gap: 'Gap ' + str(num_gap) + ' (c/a)'\n",
    "                     },\n",
    "           'color' : { 'titulo' : lambda num_gap: 'del gap ' + str(num_gap) \n",
    "                                         + ' en función de alpha y fraccion dim.', \n",
    "                         'ejex' : lambda _: 'alpha (adim.)',\n",
    "                         'ejey' : lambda _: 'fraccion dimensional  (adim.)',\n",
    "                         'ejez' : lambda num_gap: 'Gap ' + str(num_gap) + ' (c/a)'\n",
    "                     },\n",
    "           'proy1' : { 'titulo' : lambda num_gap: 'del gap ' + str(num_gap) \n",
    "                                         + ' en función de alpha', \n",
    "                         'ejex' : lambda _: 'alpha (adim.)',\n",
    "                         'ejey' : lambda num_gap: 'Gap ' + str(num_gap) + ' (c/a)'\n",
    "                     },\n",
    "           'proy2' : { 'titulo' : lambda num_gap: 'del gap ' + str(num_gap) \n",
    "                                         + ' en función de fraccion dimensional', \n",
    "                         'ejex' : lambda _: 'fraccion dimensional (adim.)',\n",
    "                         'ejey' : lambda num_gap: 'Gap ' + str(num_gap) + ' (c/a)'\n",
    "                     },\n",
    "         'widgets' : {'puntos1' : lambda _: 'alpha',\n",
    "                      'puntos2' : lambda _: 'frac',\n",
    "                      'num_gap' : lambda _: 'Gap',\n",
    "                        'serie' : lambda _: 'Serie:'\n",
    "                     }\n",
    "        }\n"
   ]
  },
  {
   "cell_type": "code",
   "execution_count": 11,
   "id": "9832a92b",
   "metadata": {},
   "outputs": [],
   "source": [
    "#resultados = graficador('exp-3mat-ea-n', texto=texto_ea, num_bandas=6)"
   ]
  },
  {
   "cell_type": "code",
   "execution_count": 12,
   "id": "21167ed2",
   "metadata": {},
   "outputs": [],
   "source": [
    "#resultados = graficador('exp-3mat-ea-3', texto=texto_ea, num_bandas=6)"
   ]
  },
  {
   "cell_type": "code",
   "execution_count": 13,
   "id": "f01e6590",
   "metadata": {},
   "outputs": [],
   "source": [
    "#resultados = graficador('exp-3mat-ee-3', texto=texto_ee, num_bandas=6)"
   ]
  },
  {
   "cell_type": "code",
   "execution_count": 14,
   "id": "3749671e",
   "metadata": {},
   "outputs": [],
   "source": [
    "#resultados = graficador('exp-3mat-aa-3', texto=texto_aa, num_bandas=6)"
   ]
  },
  {
   "cell_type": "code",
   "execution_count": 15,
   "id": "f95a2bef",
   "metadata": {},
   "outputs": [],
   "source": [
    "#resultados = graficador('3mat-ea', texto=texto_aa, num_bandas=6)"
   ]
  },
  {
   "cell_type": "code",
   "execution_count": 5,
   "id": "2022163f",
   "metadata": {
    "scrolled": true
   },
   "outputs": [
    {
     "data": {
      "application/vnd.jupyter.widget-view+json": {
       "model_id": "fd14fd7241f641e3931e24e61ef4b52f",
       "version_major": 2,
       "version_minor": 0
      },
      "text/plain": [
       "interactive(children=(SelectionSlider(description='Puntos1', options=(1.1, 1.2, 1.3, 1.4, 1.5, 1.6, 1.7, 1.8, …"
      ]
     },
     "metadata": {},
     "output_type": "display_data"
    },
    {
     "data": {
      "application/vnd.jupyter.widget-view+json": {
       "model_id": "b21dc542c1ed4780b0ce94349248057a",
       "version_major": 2,
       "version_minor": 0
      },
      "text/plain": [
       "interactive(children=(SelectionSlider(description='Gap', options=(1, 2, 3, 4, 5, 6, 7, 8, 9, 10), value=1), Dr…"
      ]
     },
     "metadata": {},
     "output_type": "display_data"
    },
    {
     "data": {
      "application/vnd.jupyter.widget-view+json": {
       "model_id": "368f8ee4ab6f4468b434b41a7fe1f98e",
       "version_major": 2,
       "version_minor": 0
      },
      "text/plain": [
       "interactive(children=(SelectionSlider(description='Puntos2', options=(0.01, 0.02, 0.03, 0.04, 0.05, 0.06, 0.07…"
      ]
     },
     "metadata": {},
     "output_type": "display_data"
    },
    {
     "data": {
      "application/vnd.jupyter.widget-view+json": {
       "model_id": "65e87023aa55428abcf3d2cb7bfa847c",
       "version_major": 2,
       "version_minor": 0
      },
      "text/plain": [
       "interactive(children=(SelectionSlider(description='Puntos1', options=(1.1, 1.2, 1.3, 1.4, 1.5, 1.6, 1.7, 1.8, …"
      ]
     },
     "metadata": {},
     "output_type": "display_data"
    }
   ],
   "source": [
    "graficador('2mat-fino-reducido', num_bandas=11)"
   ]
  },
  {
   "cell_type": "code",
   "execution_count": 17,
   "id": "df50f0bb",
   "metadata": {
    "scrolled": true
   },
   "outputs": [
    {
     "data": {
      "application/vnd.jupyter.widget-view+json": {
       "model_id": "58bbb2264c2c43069706670869627e32",
       "version_major": 2,
       "version_minor": 0
      },
      "text/plain": [
       "interactive(children=(SelectionSlider(description='Puntos1', options=(2.5, 2.6, 2.7, 2.8, 2.9, 3.0, 3.1, 3.2, …"
      ]
     },
     "metadata": {},
     "output_type": "display_data"
    },
    {
     "data": {
      "application/vnd.jupyter.widget-view+json": {
       "model_id": "e3fd6417e944468a98c5f4ca45994749",
       "version_major": 2,
       "version_minor": 0
      },
      "text/plain": [
       "interactive(children=(SelectionSlider(description='Gap', options=(1, 2, 3, 4, 5, 6, 7, 8, 9, 10), value=1), Dr…"
      ]
     },
     "metadata": {},
     "output_type": "display_data"
    },
    {
     "data": {
      "application/vnd.jupyter.widget-view+json": {
       "model_id": "fa5676c4ca014b23b693a2cdd2020676",
       "version_major": 2,
       "version_minor": 0
      },
      "text/plain": [
       "interactive(children=(SelectionSlider(description='Puntos2', options=(0.01, 0.02, 0.03, 0.04, 0.05, 0.06, 0.07…"
      ]
     },
     "metadata": {},
     "output_type": "display_data"
    },
    {
     "data": {
      "application/vnd.jupyter.widget-view+json": {
       "model_id": "840de09069a8411f830913401776e8a9",
       "version_major": 2,
       "version_minor": 0
      },
      "text/plain": [
       "interactive(children=(SelectionSlider(description='Puntos1', options=(2.5, 2.6, 2.7, 2.8, 2.9, 3.0, 3.1, 3.2, …"
      ]
     },
     "metadata": {},
     "output_type": "display_data"
    }
   ],
   "source": [
    "graficador('3mat-ea-reducido', num_bandas=11)"
   ]
  },
  {
   "cell_type": "code",
   "execution_count": 18,
   "id": "3efacb9f",
   "metadata": {},
   "outputs": [
    {
     "data": {
      "text/plain": [
       "\"\\nwith open('resultados-2mat-base-escalamiento.pkl', 'rb') as f:\\n    resultados_base = pickle.load(f)\\n\\nfor i in range(len(resultados_base['tefreqs'])):\\n    resultados_base['tefreqs'][i] *= np.sqrt(2)\\nfor i in range(len(resultados_base['gaps'])):\\n    resultados_base['gaps']['Ancho TE'][i] *= np.sqrt(2)  \\ngraficador(resultados_base, num_bandas=6)\\n\""
      ]
     },
     "execution_count": 18,
     "metadata": {},
     "output_type": "execute_result"
    }
   ],
   "source": [
    "#graficador('2mat-base-escalamiento', num_bandas=6)\n",
    "\n",
    "'''\n",
    "with open('resultados-2mat-base-escalamiento.pkl', 'rb') as f:\n",
    "    resultados_base = pickle.load(f)\n",
    "\n",
    "for i in range(len(resultados_base['tefreqs'])):\n",
    "    resultados_base['tefreqs'][i] *= np.sqrt(2)\n",
    "for i in range(len(resultados_base['gaps'])):\n",
    "    resultados_base['gaps']['Ancho TE'][i] *= np.sqrt(2)  \n",
    "graficador(resultados_base, num_bandas=6)\n",
    "'''"
   ]
  },
  {
   "cell_type": "code",
   "execution_count": 19,
   "id": "349bdc9f",
   "metadata": {},
   "outputs": [
    {
     "data": {
      "text/plain": [
       "\"\\nwith open('resultados-2mat-escalado-escalamiento.pkl', 'rb') as f:\\n    resultados_escalado = pickle.load(f)\\n\\n#for i in range(len(resultados_escalado['tefreqs'])):\\n#    resultados_escalado['tefreqs'][i] *= np.sqrt(2)\\n#for i in range(len(resultados_escalado['gaps'])):\\n#    resultados_escalado['gaps']['Ancho TE'][i] *= np.sqrt(2)  \\ngraficador(resultados_escalado, num_bandas=6)\\n#resultados_escalamiento['tefreqs']\\n\""
      ]
     },
     "execution_count": 19,
     "metadata": {},
     "output_type": "execute_result"
    }
   ],
   "source": [
    "'''\n",
    "with open('resultados-2mat-escalado-escalamiento.pkl', 'rb') as f:\n",
    "    resultados_escalado = pickle.load(f)\n",
    "\n",
    "#for i in range(len(resultados_escalado['tefreqs'])):\n",
    "#    resultados_escalado['tefreqs'][i] *= np.sqrt(2)\n",
    "#for i in range(len(resultados_escalado['gaps'])):\n",
    "#    resultados_escalado['gaps']['Ancho TE'][i] *= np.sqrt(2)  \n",
    "graficador(resultados_escalado, num_bandas=6)\n",
    "#resultados_escalamiento['tefreqs']\n",
    "'''"
   ]
  },
  {
   "cell_type": "code",
   "execution_count": 20,
   "id": "9e330176",
   "metadata": {},
   "outputs": [
    {
     "data": {
      "text/plain": [
       "\"\\ncomparacion = []\\nfor i in range(len(resultados_escalado['tefreqs'])):\\n    comparacion.append(resultados_escalado['tefreqs'][i] - resultados_base['tefreqs'][i])\\nfor i in range(len(resultados_escalado['gaps'])):\\n    comparacion.append(resultados_escalado['gaps']['Ancho TE'][i] - resultados_base['gaps']['Ancho TE'][i])\\n\\nfor i in range(len(comparacion)):\\n    print(np.max(comparacion[i]))\\n    print(np.min(comparacion[i]))\\n\""
      ]
     },
     "execution_count": 20,
     "metadata": {},
     "output_type": "execute_result"
    }
   ],
   "source": [
    "'''\n",
    "comparacion = []\n",
    "for i in range(len(resultados_escalado['tefreqs'])):\n",
    "    comparacion.append(resultados_escalado['tefreqs'][i] - resultados_base['tefreqs'][i])\n",
    "for i in range(len(resultados_escalado['gaps'])):\n",
    "    comparacion.append(resultados_escalado['gaps']['Ancho TE'][i] - resultados_base['gaps']['Ancho TE'][i])\n",
    "\n",
    "for i in range(len(comparacion)):\n",
    "    print(np.max(comparacion[i]))\n",
    "    print(np.min(comparacion[i]))\n",
    "'''\n"
   ]
  }
 ],
 "metadata": {
  "kernelspec": {
   "display_name": "Python 3 (ipykernel)",
   "language": "python",
   "name": "python3"
  },
  "language_info": {
   "codemirror_mode": {
    "name": "ipython",
    "version": 3
   },
   "file_extension": ".py",
   "mimetype": "text/x-python",
   "name": "python",
   "nbconvert_exporter": "python",
   "pygments_lexer": "ipython3",
   "version": "3.11.5"
  }
 },
 "nbformat": 4,
 "nbformat_minor": 5
}
